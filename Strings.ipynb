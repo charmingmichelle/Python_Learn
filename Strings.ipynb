{
  "nbformat": 4,
  "nbformat_minor": 0,
  "metadata": {
    "colab": {
      "name": "Strings.ipynb",
      "version": "0.3.2",
      "provenance": [],
      "collapsed_sections": []
    },
    "kernelspec": {
      "name": "python3",
      "display_name": "Python 3"
    }
  },
  "cells": [
    {
      "metadata": {
        "id": "0t-0unS8VPSU",
        "colab_type": "code",
        "colab": {
          "base_uri": "https://localhost:8080/",
          "height": 34
        },
        "outputId": "5dc5bea2-1b98-456a-da43-40fd0cc35c78"
      },
      "cell_type": "code",
      "source": [
        "# Print Function\n",
        "print (\"Hello World\")"
      ],
      "execution_count": 5,
      "outputs": [
        {
          "output_type": "stream",
          "text": [
            "Hello World\n"
          ],
          "name": "stdout"
        }
      ]
    },
    {
      "metadata": {
        "id": "kJAAWk2dVa3D",
        "colab_type": "code",
        "colab": {
          "base_uri": "https://localhost:8080/",
          "height": 34
        },
        "outputId": "3d4f5e07-144f-40bc-937c-da1553834ef8"
      },
      "cell_type": "code",
      "source": [
        "# Length Function\n",
        "fruit = \"Panapple\"\n",
        "print (len(fruit))"
      ],
      "execution_count": 6,
      "outputs": [
        {
          "output_type": "stream",
          "text": [
            "8\n"
          ],
          "name": "stdout"
        }
      ]
    },
    {
      "metadata": {
        "id": "uXdvh0GsYX2k",
        "colab_type": "code",
        "colab": {
          "base_uri": "https://localhost:8080/",
          "height": 153
        },
        "outputId": "66b2157b-51cb-40be-ed51-ea46973e3514"
      },
      "cell_type": "code",
      "source": [
        "# Print each letter of the fruit\n",
        "index = 0 \n",
        "while index < len(fruit):\n",
        "  letter = fruit[index]\n",
        "  print(index, letter)\n",
        "  index = index + 1"
      ],
      "execution_count": 8,
      "outputs": [
        {
          "output_type": "stream",
          "text": [
            "0 P\n",
            "1 a\n",
            "2 n\n",
            "3 a\n",
            "4 p\n",
            "5 p\n",
            "6 l\n",
            "7 e\n"
          ],
          "name": "stdout"
        }
      ]
    },
    {
      "metadata": {
        "id": "nvXUNsRmZHVA",
        "colab_type": "code",
        "colab": {
          "base_uri": "https://localhost:8080/",
          "height": 153
        },
        "outputId": "c1008699-b407-4b8f-ce76-64367d2f58e1"
      },
      "cell_type": "code",
      "source": [
        "# A definite loop using a for statement is much more elegant\n",
        "# The iteration variable is completely taken care of by the for loop\n",
        "for letter in fruit:\n",
        "  print(letter)"
      ],
      "execution_count": 9,
      "outputs": [
        {
          "output_type": "stream",
          "text": [
            "P\n",
            "a\n",
            "n\n",
            "a\n",
            "p\n",
            "p\n",
            "l\n",
            "e\n"
          ],
          "name": "stdout"
        }
      ]
    },
    {
      "metadata": {
        "id": "4PQSUIfrZq4n",
        "colab_type": "code",
        "colab": {
          "base_uri": "https://localhost:8080/",
          "height": 34
        },
        "outputId": "c29a8b63-dae1-4b4b-b8c2-feaeebb1a1dc"
      },
      "cell_type": "code",
      "source": [
        "# Looping and Counting\n",
        "# Counting the number of \"a\"s in the fruit\n",
        "count = 0\n",
        "for letter in fruit:\n",
        "  if letter == \"a\":\n",
        "    count = count + 1\n",
        "print (count)"
      ],
      "execution_count": 17,
      "outputs": [
        {
          "output_type": "stream",
          "text": [
            "2\n"
          ],
          "name": "stdout"
        }
      ]
    },
    {
      "metadata": {
        "id": "rs-BUOvtaV0y",
        "colab_type": "code",
        "colab": {
          "base_uri": "https://localhost:8080/",
          "height": 34
        },
        "outputId": "cc912434-4f7a-4de4-fc3d-72e4f0bfd2da"
      },
      "cell_type": "code",
      "source": [
        "# Slicing String\n",
        "# The second number is one beyond the end of the slice \"up to but not including\"\n",
        "s = \"Python Structure\"\n",
        "print (s[0:4])"
      ],
      "execution_count": 19,
      "outputs": [
        {
          "output_type": "stream",
          "text": [
            "Pyth\n"
          ],
          "name": "stdout"
        }
      ]
    },
    {
      "metadata": {
        "id": "G3O00NLUbbRw",
        "colab_type": "code",
        "colab": {
          "base_uri": "https://localhost:8080/",
          "height": 51
        },
        "outputId": "a0b8cbe7-e4b7-4b2e-f88c-a39e9b8662f6"
      },
      "cell_type": "code",
      "source": [
        "# String Concatenation\n",
        "a = \"Hello\"\n",
        "b = a + \"World\"\n",
        "print (b)\n",
        "b1 = a + \" \" + \"World\"\n",
        "print (b1)"
      ],
      "execution_count": 24,
      "outputs": [
        {
          "output_type": "stream",
          "text": [
            "HelloWorld\n",
            "Hello World\n"
          ],
          "name": "stdout"
        }
      ]
    },
    {
      "metadata": {
        "id": "zrAI9Q57cPgo",
        "colab_type": "code",
        "colab": {
          "base_uri": "https://localhost:8080/",
          "height": 34
        },
        "outputId": "bc83b8c2-c138-436c-c880-4f7e7392352b"
      },
      "cell_type": "code",
      "source": [
        "# Using \"in\" asn a Logical Operator\n",
        "\"l\" in fruit"
      ],
      "execution_count": 27,
      "outputs": [
        {
          "output_type": "execute_result",
          "data": {
            "text/plain": [
              "True"
            ]
          },
          "metadata": {
            "tags": []
          },
          "execution_count": 27
        }
      ]
    },
    {
      "metadata": {
        "id": "LY1vTcTKcnTK",
        "colab_type": "code",
        "colab": {
          "base_uri": "https://localhost:8080/",
          "height": 68
        },
        "outputId": "47f32d8d-cb60-4bb6-f7e4-5fb0194b14dc"
      },
      "cell_type": "code",
      "source": [
        "# String Libarary\n",
        "name = \"Hello Michelle\"\n",
        "lw = name.lower()\n",
        "print (\"Lower_Case:\", lw)\n",
        "up = name.upper()\n",
        "print (\"Upper_Case:\", up)\n",
        "print (\"Altenative way:\", \"Hello Michelle\".lower())"
      ],
      "execution_count": 33,
      "outputs": [
        {
          "output_type": "stream",
          "text": [
            "Lower_Case: hello michelle\n",
            "Upper_Case: HELLO MICHELLE\n",
            "Altenative way: hello michelle\n"
          ],
          "name": "stdout"
        }
      ]
    },
    {
      "metadata": {
        "id": "EA6trtXBcl4r",
        "colab_type": "code",
        "colab": {
          "base_uri": "https://localhost:8080/",
          "height": 34
        },
        "outputId": "5726891d-3e8f-419d-a3ad-31df63b2f9dc"
      },
      "cell_type": "code",
      "source": [
        "type(name)"
      ],
      "execution_count": 34,
      "outputs": [
        {
          "output_type": "execute_result",
          "data": {
            "text/plain": [
              "str"
            ]
          },
          "metadata": {
            "tags": []
          },
          "execution_count": 34
        }
      ]
    },
    {
      "metadata": {
        "id": "-FM8voPgeql7",
        "colab_type": "code",
        "colab": {
          "base_uri": "https://localhost:8080/",
          "height": 1326
        },
        "outputId": "e3dcf6f3-f0de-4d95-e934-81ec163cf82a"
      },
      "cell_type": "code",
      "source": [
        "# What you can do with str\n",
        "dir(name)"
      ],
      "execution_count": 35,
      "outputs": [
        {
          "output_type": "execute_result",
          "data": {
            "text/plain": [
              "['__add__',\n",
              " '__class__',\n",
              " '__contains__',\n",
              " '__delattr__',\n",
              " '__dir__',\n",
              " '__doc__',\n",
              " '__eq__',\n",
              " '__format__',\n",
              " '__ge__',\n",
              " '__getattribute__',\n",
              " '__getitem__',\n",
              " '__getnewargs__',\n",
              " '__gt__',\n",
              " '__hash__',\n",
              " '__init__',\n",
              " '__init_subclass__',\n",
              " '__iter__',\n",
              " '__le__',\n",
              " '__len__',\n",
              " '__lt__',\n",
              " '__mod__',\n",
              " '__mul__',\n",
              " '__ne__',\n",
              " '__new__',\n",
              " '__reduce__',\n",
              " '__reduce_ex__',\n",
              " '__repr__',\n",
              " '__rmod__',\n",
              " '__rmul__',\n",
              " '__setattr__',\n",
              " '__sizeof__',\n",
              " '__str__',\n",
              " '__subclasshook__',\n",
              " 'capitalize',\n",
              " 'casefold',\n",
              " 'center',\n",
              " 'count',\n",
              " 'encode',\n",
              " 'endswith',\n",
              " 'expandtabs',\n",
              " 'find',\n",
              " 'format',\n",
              " 'format_map',\n",
              " 'index',\n",
              " 'isalnum',\n",
              " 'isalpha',\n",
              " 'isdecimal',\n",
              " 'isdigit',\n",
              " 'isidentifier',\n",
              " 'islower',\n",
              " 'isnumeric',\n",
              " 'isprintable',\n",
              " 'isspace',\n",
              " 'istitle',\n",
              " 'isupper',\n",
              " 'join',\n",
              " 'ljust',\n",
              " 'lower',\n",
              " 'lstrip',\n",
              " 'maketrans',\n",
              " 'partition',\n",
              " 'replace',\n",
              " 'rfind',\n",
              " 'rindex',\n",
              " 'rjust',\n",
              " 'rpartition',\n",
              " 'rsplit',\n",
              " 'rstrip',\n",
              " 'split',\n",
              " 'splitlines',\n",
              " 'startswith',\n",
              " 'strip',\n",
              " 'swapcase',\n",
              " 'title',\n",
              " 'translate',\n",
              " 'upper',\n",
              " 'zfill']"
            ]
          },
          "metadata": {
            "tags": []
          },
          "execution_count": 35
        }
      ]
    },
    {
      "metadata": {
        "id": "qrgVS608eyU4",
        "colab_type": "code",
        "colab": {
          "base_uri": "https://localhost:8080/",
          "height": 51
        },
        "outputId": "e2edf857-df10-42f5-931b-a4efefaada37"
      },
      "cell_type": "code",
      "source": [
        "# Searching a String\n",
        "# We use the find() function to search for a substring within another sgtring\n",
        "# find() finds the first occurrence of the substring\n",
        "# If the substring is not found, find() returns -1\n",
        "# Remember that string position starts at zero\n",
        "pos = name.find(\"ll\")\n",
        "print (\"ll is starting from:\", pos)\n",
        "\n",
        "pos1 = name.find('pp')\n",
        "print (\"pp is starting from:\", pos1)"
      ],
      "execution_count": 38,
      "outputs": [
        {
          "output_type": "stream",
          "text": [
            "ll is starting from: 2\n",
            "pp is starting from: -1\n"
          ],
          "name": "stdout"
        }
      ]
    },
    {
      "metadata": {
        "id": "9ZhkNq1sfmhH",
        "colab_type": "code",
        "colab": {
          "base_uri": "https://localhost:8080/",
          "height": 51
        },
        "outputId": "2448da15-776b-4f5e-e7bd-01f0b5c77daa"
      },
      "cell_type": "code",
      "source": [
        "# Search and Replace\n",
        "# The replace() function is like a \"search and replace\" operation in a word processor\n",
        "# It replaces all occurrences of the search string with the replacement string\n",
        "test = \"Hello World\"\n",
        "trp = test.replace(\"World\", \"Excel\")\n",
        "print(\"Replace 'World' with 'Excel':\", trp)\n",
        "trp1 = test.replace(\"l\",\"r\")\n",
        "print(\"Replace 'l' with 'r':\", trp1)"
      ],
      "execution_count": 43,
      "outputs": [
        {
          "output_type": "stream",
          "text": [
            "Replace 'World' with 'Excel': Hello Excel\n",
            "Replace 'l' with 'r': Herro Worrd\n"
          ],
          "name": "stdout"
        }
      ]
    },
    {
      "metadata": {
        "id": "u7u4tS3Kgx6h",
        "colab_type": "code",
        "colab": {
          "base_uri": "https://localhost:8080/",
          "height": 85
        },
        "outputId": "e916effc-f960-49de-8ec4-e6a1bc7c9864"
      },
      "cell_type": "code",
      "source": [
        "# Stripping Whitespace\n",
        "# Sometimes we want to take a string and remove whitespace at the beginning and/or end\n",
        "# lstrip() and rstrip() remove whitespace at the left or right\n",
        "# strip() removes both beginning and ending whitespace\n",
        "test = \" Hello World \"\n",
        "print (\"l\" + test + \"r\")\n",
        "test1 = test.lstrip()\n",
        "print ('l' + test1 + 'r')\n",
        "test2 = test.rstrip()\n",
        "print (\"l\" + test2 + \"r\")\n",
        "test3 = test.strip()\n",
        "print (\"l\" + test3 + 'r')"
      ],
      "execution_count": 51,
      "outputs": [
        {
          "output_type": "stream",
          "text": [
            "l Hello World r\n",
            "lHello World r\n",
            "l Hello Worldr\n",
            "lHello Worldr\n"
          ],
          "name": "stdout"
        }
      ]
    },
    {
      "metadata": {
        "id": "DINwWJRViQ6d",
        "colab_type": "code",
        "colab": {
          "base_uri": "https://localhost:8080/",
          "height": 34
        },
        "outputId": "6640bd53-20a4-4725-8904-3c27b74f08ab"
      },
      "cell_type": "code",
      "source": [
        "# Prefixes\n",
        "test = 'Michelle is beautiful'\n",
        "test.startswith('M')\n"
      ],
      "execution_count": 52,
      "outputs": [
        {
          "output_type": "execute_result",
          "data": {
            "text/plain": [
              "True"
            ]
          },
          "metadata": {
            "tags": []
          },
          "execution_count": 52
        }
      ]
    },
    {
      "metadata": {
        "id": "YlQuomheim_D",
        "colab_type": "code",
        "colab": {
          "base_uri": "https://localhost:8080/",
          "height": 68
        },
        "outputId": "26ca2e4c-2ed3-4c5d-ff56-26460d559922"
      },
      "cell_type": "code",
      "source": [
        "# Parsing and Extracting\n",
        "data = 'From stephen.marquard@uct.ac.za Sat Jan 5 09:14:2018'\n",
        "atpos = data.find('@')\n",
        "print (atpos)\n",
        "endpos = data.find(' ')\n",
        "print (endpos)\n",
        "endpos1 = data.find(' ', atpos)\n",
        "print(data[atpos+1: endpos1])"
      ],
      "execution_count": 56,
      "outputs": [
        {
          "output_type": "stream",
          "text": [
            "21\n",
            "4\n",
            "uct.ac.za\n"
          ],
          "name": "stdout"
        }
      ]
    },
    {
      "metadata": {
        "id": "rmlr0CoNlCjT",
        "colab_type": "code",
        "colab": {}
      },
      "cell_type": "code",
      "source": [
        ""
      ],
      "execution_count": 0,
      "outputs": []
    }
  ]
}