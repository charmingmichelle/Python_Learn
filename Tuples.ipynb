{
  "nbformat": 4,
  "nbformat_minor": 0,
  "metadata": {
    "colab": {
      "name": "Tuples.ipynb",
      "version": "0.3.2",
      "provenance": [],
      "collapsed_sections": []
    },
    "kernelspec": {
      "name": "python3",
      "display_name": "Python 3"
    }
  },
  "cells": [
    {
      "metadata": {
        "id": "TANtt_tTkyOY",
        "colab_type": "code",
        "colab": {
          "base_uri": "https://localhost:8080/",
          "height": 34
        },
        "outputId": "905174da-fa43-4d44-af79-01c5395d76c6"
      },
      "cell_type": "code",
      "source": [
        "# Tuples are like lists\n",
        "# Tuples are another kind of sequence that functions much like a list\n",
        "# - they have elements which are indexed starting at 0\n",
        "x = ('Glenn', 'Sally','Joseph')\n",
        "print(x[2])"
      ],
      "execution_count": 1,
      "outputs": [
        {
          "output_type": "stream",
          "text": [
            "Joseph\n"
          ],
          "name": "stdout"
        }
      ]
    },
    {
      "metadata": {
        "id": "zOLu3TFelJOn",
        "colab_type": "code",
        "colab": {
          "base_uri": "https://localhost:8080/",
          "height": 34
        },
        "outputId": "b236c367-f5ee-4107-9211-b46f8043b786"
      },
      "cell_type": "code",
      "source": [
        "y = (1, 9, 2)\n",
        "print(y)"
      ],
      "execution_count": 2,
      "outputs": [
        {
          "output_type": "stream",
          "text": [
            "(1, 9, 2)\n"
          ],
          "name": "stdout"
        }
      ]
    },
    {
      "metadata": {
        "id": "GY0jMwF-lQeR",
        "colab_type": "code",
        "colab": {
          "base_uri": "https://localhost:8080/",
          "height": 182
        },
        "outputId": "0f1abdfc-d363-42f0-80be-bf860a5a4d7b"
      },
      "cell_type": "code",
      "source": [
        "# but... Tuples are \"immutable\"\n",
        "# Unlike a list, onece you create a tuple, you cannot alter its contents\n",
        "# similar to a string\n",
        "y = 'ABC'\n",
        "y[2] = 'D'"
      ],
      "execution_count": 3,
      "outputs": [
        {
          "output_type": "error",
          "ename": "TypeError",
          "evalue": "ignored",
          "traceback": [
            "\u001b[0;31m---------------------------------------------------------------------------\u001b[0m",
            "\u001b[0;31mTypeError\u001b[0m                                 Traceback (most recent call last)",
            "\u001b[0;32m<ipython-input-3-3f1bdaf291d4>\u001b[0m in \u001b[0;36m<module>\u001b[0;34m()\u001b[0m\n\u001b[1;32m      1\u001b[0m \u001b[0my\u001b[0m \u001b[0;34m=\u001b[0m \u001b[0;34m'ABC'\u001b[0m\u001b[0;34m\u001b[0m\u001b[0m\n\u001b[0;32m----> 2\u001b[0;31m \u001b[0my\u001b[0m\u001b[0;34m[\u001b[0m\u001b[0;36m2\u001b[0m\u001b[0;34m]\u001b[0m \u001b[0;34m=\u001b[0m \u001b[0;34m'D'\u001b[0m\u001b[0;34m\u001b[0m\u001b[0m\n\u001b[0m",
            "\u001b[0;31mTypeError\u001b[0m: 'str' object does not support item assignment"
          ]
        }
      ]
    },
    {
      "metadata": {
        "id": "qFv5PC7jlvkb",
        "colab_type": "code",
        "colab": {
          "base_uri": "https://localhost:8080/",
          "height": 182
        },
        "outputId": "70a7b6ae-e644-4b88-b4ac-d11559a55fd3"
      },
      "cell_type": "code",
      "source": [
        "z = (5,4,0)\n",
        "z[2] = 9"
      ],
      "execution_count": 4,
      "outputs": [
        {
          "output_type": "error",
          "ename": "TypeError",
          "evalue": "ignored",
          "traceback": [
            "\u001b[0;31m---------------------------------------------------------------------------\u001b[0m",
            "\u001b[0;31mTypeError\u001b[0m                                 Traceback (most recent call last)",
            "\u001b[0;32m<ipython-input-4-49e5a3d1d232>\u001b[0m in \u001b[0;36m<module>\u001b[0;34m()\u001b[0m\n\u001b[1;32m      1\u001b[0m \u001b[0mz\u001b[0m \u001b[0;34m=\u001b[0m \u001b[0;34m(\u001b[0m\u001b[0;36m5\u001b[0m\u001b[0;34m,\u001b[0m\u001b[0;36m4\u001b[0m\u001b[0;34m,\u001b[0m\u001b[0;36m0\u001b[0m\u001b[0;34m)\u001b[0m\u001b[0;34m\u001b[0m\u001b[0m\n\u001b[0;32m----> 2\u001b[0;31m \u001b[0mz\u001b[0m\u001b[0;34m[\u001b[0m\u001b[0;36m2\u001b[0m\u001b[0;34m]\u001b[0m \u001b[0;34m=\u001b[0m \u001b[0;36m9\u001b[0m\u001b[0;34m\u001b[0m\u001b[0m\n\u001b[0m",
            "\u001b[0;31mTypeError\u001b[0m: 'tuple' object does not support item assignment"
          ]
        }
      ]
    },
    {
      "metadata": {
        "id": "GE4-oaWjl3p9",
        "colab_type": "code",
        "colab": {}
      },
      "cell_type": "code",
      "source": [
        "# Things not to do with Tuples\n",
        "# sort, append, reverse\n",
        "# Whatever order you put the tuple in, when you create it, it stays in that.\n",
        "\n",
        "# Tuples are more efficient\n",
        "# Since Python does not have to build tuple structures to be modifiable, they are\n",
        "# simipler and more efficient in terms of memory use and performance than lists.\n",
        "# So in our program when we are making \"temporary variables\" we prefer tuples over lists."
      ],
      "execution_count": 0,
      "outputs": []
    },
    {
      "metadata": {
        "id": "cNlVzAPBmpFZ",
        "colab_type": "code",
        "colab": {
          "base_uri": "https://localhost:8080/",
          "height": 34
        },
        "outputId": "e56ad49d-bd5c-49a6-ced5-e6bc20460e57"
      },
      "cell_type": "code",
      "source": [
        "# Tuples and Assignment\n",
        "# We can also put a tuple on the left-hand side of an assignment statement\n",
        "# We can even omit the prenthese\n",
        "(x, y) = (4,'fred')\n",
        "print (y)"
      ],
      "execution_count": 5,
      "outputs": [
        {
          "output_type": "stream",
          "text": [
            "fred\n"
          ],
          "name": "stdout"
        }
      ]
    },
    {
      "metadata": {
        "id": "e9GVZMvBm7By",
        "colab_type": "code",
        "colab": {
          "base_uri": "https://localhost:8080/",
          "height": 34
        },
        "outputId": "a6ac0dd2-b74b-472a-f646-60bad5949475"
      },
      "cell_type": "code",
      "source": [
        "(a,b) = (99, 98)\n",
        "print(a)"
      ],
      "execution_count": 6,
      "outputs": [
        {
          "output_type": "stream",
          "text": [
            "99\n"
          ],
          "name": "stdout"
        }
      ]
    },
    {
      "metadata": {
        "id": "KIFPYflNm_YJ",
        "colab_type": "code",
        "colab": {
          "base_uri": "https://localhost:8080/",
          "height": 52
        },
        "outputId": "57678bbe-b160-45e2-be60-d7da7ca3bf49"
      },
      "cell_type": "code",
      "source": [
        "# Tuples and Dictionaries\n",
        "# The items() mdethod in dictionaries returns a list of (key, value) tuples\n",
        "d = dict()\n",
        "d['csev'] = 2\n",
        "d['cwen'] = 4\n",
        "for (k,v) in d.items():\n",
        "  print(k,v)"
      ],
      "execution_count": 7,
      "outputs": [
        {
          "output_type": "stream",
          "text": [
            "csev 2\n",
            "cwen 4\n"
          ],
          "name": "stdout"
        }
      ]
    },
    {
      "metadata": {
        "id": "yLZm4MaFnSeC",
        "colab_type": "code",
        "colab": {
          "base_uri": "https://localhost:8080/",
          "height": 34
        },
        "outputId": "9d534f64-5805-4745-9ef4-b3f48033a03e"
      },
      "cell_type": "code",
      "source": [
        "tups = d.items()\n",
        "print(tups)"
      ],
      "execution_count": 8,
      "outputs": [
        {
          "output_type": "stream",
          "text": [
            "dict_items([('csev', 2), ('cwen', 4)])\n"
          ],
          "name": "stdout"
        }
      ]
    },
    {
      "metadata": {
        "id": "-23lZtFpnVGa",
        "colab_type": "code",
        "colab": {
          "base_uri": "https://localhost:8080/",
          "height": 34
        },
        "outputId": "27d8513e-e8a1-4358-da47-24613b3a495f"
      },
      "cell_type": "code",
      "source": [
        "# Tuples are Comparable\n",
        "# The comparison operators work with tuples and other sequences.\n",
        "# If the first item is equal, Python goes on to the next element, and so on, unitl\n",
        "# it finds elements that differ.\n",
        "(0,1,2) < (5,2,3)"
      ],
      "execution_count": 9,
      "outputs": [
        {
          "output_type": "execute_result",
          "data": {
            "text/plain": [
              "True"
            ]
          },
          "metadata": {
            "tags": []
          },
          "execution_count": 9
        }
      ]
    },
    {
      "metadata": {
        "id": "RUfYU0YUnvH1",
        "colab_type": "code",
        "colab": {
          "base_uri": "https://localhost:8080/",
          "height": 34
        },
        "outputId": "4e1a495f-7257-46c9-ef96-35d2a79764c6"
      },
      "cell_type": "code",
      "source": [
        "('Jones', 'Sally') < ('Jones', 'Sam')"
      ],
      "execution_count": 10,
      "outputs": [
        {
          "output_type": "execute_result",
          "data": {
            "text/plain": [
              "True"
            ]
          },
          "metadata": {
            "tags": []
          },
          "execution_count": 10
        }
      ]
    },
    {
      "metadata": {
        "id": "T3d-1S6Jn1dw",
        "colab_type": "code",
        "colab": {
          "base_uri": "https://localhost:8080/",
          "height": 34
        },
        "outputId": "033a5cc8-06f4-4c20-e493-a079de43e652"
      },
      "cell_type": "code",
      "source": [
        "('Jones', 'Sally') < ('Adams', 'Sam')"
      ],
      "execution_count": 11,
      "outputs": [
        {
          "output_type": "execute_result",
          "data": {
            "text/plain": [
              "False"
            ]
          },
          "metadata": {
            "tags": []
          },
          "execution_count": 11
        }
      ]
    },
    {
      "metadata": {
        "id": "ZlwEsVd0n4zq",
        "colab_type": "code",
        "colab": {
          "base_uri": "https://localhost:8080/",
          "height": 34
        },
        "outputId": "66e90264-983b-47b6-ffbd-6f01d5497e96"
      },
      "cell_type": "code",
      "source": [
        "# Sorting Lists of Tuples\n",
        "# We can take advantage of the ability to sort a list of tuples to get a sorted \n",
        "# version of a dictionary\n",
        "# First, we sort the dictionary by the key using the items() method and sorted() \n",
        "# function\n",
        "d = {'a':10, 'b':1,'c':22}\n",
        "d.items()"
      ],
      "execution_count": 13,
      "outputs": [
        {
          "output_type": "execute_result",
          "data": {
            "text/plain": [
              "dict_items([('a', 10), ('b', 1), ('c', 22)])"
            ]
          },
          "metadata": {
            "tags": []
          },
          "execution_count": 13
        }
      ]
    },
    {
      "metadata": {
        "id": "0uh5XaZro1HQ",
        "colab_type": "code",
        "colab": {
          "base_uri": "https://localhost:8080/",
          "height": 34
        },
        "outputId": "83baf5b9-6625-4af5-b53f-be714099528c"
      },
      "cell_type": "code",
      "source": [
        "sorted(d.items())"
      ],
      "execution_count": 15,
      "outputs": [
        {
          "output_type": "execute_result",
          "data": {
            "text/plain": [
              "[('a', 10), ('b', 1), ('c', 22)]"
            ]
          },
          "metadata": {
            "tags": []
          },
          "execution_count": 15
        }
      ]
    },
    {
      "metadata": {
        "id": "iZet3rNpo7AV",
        "colab_type": "code",
        "colab": {
          "base_uri": "https://localhost:8080/",
          "height": 34
        },
        "outputId": "10300d5b-8dfd-4804-ea61-5d28665c539a"
      },
      "cell_type": "code",
      "source": [
        "# We can do this even more directly using the built-in function sorted that takes a\n",
        "# sequence as a parameter and returns a sorted sequence\n",
        "d = {'a':10, 'b':1,'c':22}\n",
        "t = sorted(d.items())\n",
        "t"
      ],
      "execution_count": 16,
      "outputs": [
        {
          "output_type": "execute_result",
          "data": {
            "text/plain": [
              "[('a', 10), ('b', 1), ('c', 22)]"
            ]
          },
          "metadata": {
            "tags": []
          },
          "execution_count": 16
        }
      ]
    },
    {
      "metadata": {
        "id": "nQ-yntBupUZX",
        "colab_type": "code",
        "colab": {
          "base_uri": "https://localhost:8080/",
          "height": 69
        },
        "outputId": "527a88c1-fc5b-4eb3-b1f2-abd8dbc4342e"
      },
      "cell_type": "code",
      "source": [
        "for k,v in sorted(d.items()):\n",
        "  print(k,v)"
      ],
      "execution_count": 18,
      "outputs": [
        {
          "output_type": "stream",
          "text": [
            "a 10\n",
            "b 1\n",
            "c 22\n"
          ],
          "name": "stdout"
        }
      ]
    },
    {
      "metadata": {
        "id": "918CkTrApXg3",
        "colab_type": "code",
        "colab": {
          "base_uri": "https://localhost:8080/",
          "height": 34
        },
        "outputId": "b0d6e86d-dcb1-4674-805d-089710718c80"
      },
      "cell_type": "code",
      "source": [
        "# Sort by values instead of key\n",
        "# If we could construct a list of tuples of the form (value, key) we could sort\n",
        "# by value\n",
        "# We do this with a for loop that creates a list of tuples\n",
        "c = {'a':10, 'b':1,'c':22}\n",
        "tmp = list()\n",
        "for k,v in c.items():\n",
        "  tmp.append((v,k))\n",
        "print(tmp)\n"
      ],
      "execution_count": 20,
      "outputs": [
        {
          "output_type": "stream",
          "text": [
            "[(10, 'a'), (1, 'b'), (22, 'c')]\n"
          ],
          "name": "stdout"
        }
      ]
    },
    {
      "metadata": {
        "id": "ixLB6bHlqcel",
        "colab_type": "code",
        "colab": {
          "base_uri": "https://localhost:8080/",
          "height": 34
        },
        "outputId": "3c7693c7-085d-4c8c-e411-58eb0cb161d5"
      },
      "cell_type": "code",
      "source": [
        "tmp = sorted(tmp, reverse = True)\n",
        "print(tmp)"
      ],
      "execution_count": 22,
      "outputs": [
        {
          "output_type": "stream",
          "text": [
            "[(22, 'c'), (10, 'a'), (1, 'b')]\n"
          ],
          "name": "stdout"
        }
      ]
    },
    {
      "metadata": {
        "id": "_FdGjdjwqi7K",
        "colab_type": "code",
        "colab": {}
      },
      "cell_type": "code",
      "source": [
        "fhand = open('romeo.txt')\n",
        "counts = dict()\n",
        "for line in fhand:\n",
        "  words = line.split()\n",
        "  for word in words:\n",
        "    counts[word] = counts.get(word, 0) + 1\n",
        "\n",
        "lst = list()\n",
        "for key, val in counts.items():\n",
        "  newtup = (val, key)\n",
        "  lst.append(newtup)\n",
        "\n",
        "lst = sorted(lst, reverse = True)\n",
        "\n",
        "for val,key in lst[:10]:\n",
        "  print(key, val)"
      ],
      "execution_count": 0,
      "outputs": []
    },
    {
      "metadata": {
        "id": "VlNOrreTslcR",
        "colab_type": "code",
        "colab": {
          "base_uri": "https://localhost:8080/",
          "height": 34
        },
        "outputId": "43edf90b-dfd9-4e02-b3e7-6ce3e7c13beb"
      },
      "cell_type": "code",
      "source": [
        "# Even shorter version\n",
        "# List comprehension creates a dynamic list.\n",
        "# In this case, we make a list of reversed tuples and then sort it.\n",
        "c = {'a':10, 'b': 1, 'c':22}\n",
        "print(sorted([(v, k) for k,v in c.items()]))"
      ],
      "execution_count": 23,
      "outputs": [
        {
          "output_type": "stream",
          "text": [
            "[(1, 'b'), (10, 'a'), (22, 'c')]\n"
          ],
          "name": "stdout"
        }
      ]
    },
    {
      "metadata": {
        "id": "i5ovysbmtS7O",
        "colab_type": "code",
        "colab": {}
      },
      "cell_type": "code",
      "source": [
        "# Write a program to read through the mbox-short.txt and figure out the distribution \n",
        "# by hour of the day for each of the messages. You can pull the hour out from the \n",
        "# 'From ' line by finding the time and then splitting the string a second time using \n",
        "# a colon.\n",
        "#          From stephen.marquard@uct.ac.za Sat Jan  5 09:14:16 2008\n",
        "# Once you have accumulated the counts for each hour, print out the counts, sorted by hour as shown below.\n",
        "name = input(\"Enter file:\")\n",
        "if len(name) < 1 : name = \"mbox-short.txt\"\n",
        "handle = open(name)\n",
        "\n",
        "counts = dict()\n",
        "\n",
        "for line in handle:\n",
        "    #if line.startswith(\"From \"):\n",
        "    if line.startswith('From '):\n",
        "        time = line.split()\n",
        "        time = time[5]\n",
        "        time = time.split(':')\n",
        "        time = time[0]\n",
        "        counts [time] = counts.get(time, 0) + 1\n",
        "\n",
        "lst = list()\n",
        "for key, value in counts.items():\n",
        "    newdata = (key, value)\n",
        "    lst.append(newdata)\n",
        "\n",
        "lst = sorted(lst)\n",
        "\n",
        "for key,val in lst:\n",
        "    print(key, val)"
      ],
      "execution_count": 0,
      "outputs": []
    }
  ]
}