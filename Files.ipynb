{
  "nbformat": 4,
  "nbformat_minor": 0,
  "metadata": {
    "colab": {
      "name": "Files.ipynb",
      "version": "0.3.2",
      "provenance": [],
      "collapsed_sections": []
    },
    "kernelspec": {
      "name": "python3",
      "display_name": "Python 3"
    }
  },
  "cells": [
    {
      "metadata": {
        "id": "KQAd256Mulec",
        "colab_type": "code",
        "colab": {}
      },
      "cell_type": "code",
      "source": [
        "# open() returns a \"file handle\" - a variable used to perform operations on the file\n",
        "# handle = open(filename, mode)\n",
        "# returns a handle use to manipulate the file\n",
        "# file name is a string\n",
        "fhand = open('mbox,txt', 'r')"
      ],
      "execution_count": 0,
      "outputs": []
    },
    {
      "metadata": {
        "id": "ygQ8dlfTvA7V",
        "colab_type": "code",
        "colab": {
          "base_uri": "https://localhost:8080/",
          "height": 68
        },
        "outputId": "a7d60b2c-5588-4a89-b8cb-f9dcf69656c9"
      },
      "cell_type": "code",
      "source": [
        "# The newline Character\n",
        "# We use a special character called the \"newline\" to indicate when a line ends\n",
        "# We represent it as '\\n' in strings\n",
        "# Newline is still on character -not two\n",
        "data = \"Hello \\nGWU\"\n",
        "print(data)\n",
        "print (\"Length of data is: \", len(data))"
      ],
      "execution_count": 3,
      "outputs": [
        {
          "output_type": "stream",
          "text": [
            "Hello \n",
            "GWU\n",
            "Length of data is:  10\n"
          ],
          "name": "stdout"
        }
      ]
    },
    {
      "metadata": {
        "id": "tannSOjewEvm",
        "colab_type": "code",
        "colab": {}
      },
      "cell_type": "code",
      "source": [
        "# File handle as a sequence\n",
        "# A file handle open for read can be treated as a sequence of string where each\n",
        "# each line in the file is a string in the sequence.\n",
        "# We can use the for statement to iterate through a sequence\n",
        "# Remeber - a sequence is an ordered set\n",
        "xfile = open('mbox.txt')\n",
        "for sentence in xfile:\n",
        "  print (sentence)"
      ],
      "execution_count": 0,
      "outputs": []
    },
    {
      "metadata": {
        "id": "HwBUcsirCaMS",
        "colab_type": "code",
        "colab": {}
      },
      "cell_type": "code",
      "source": [
        "# Reading the *Whole* File\n",
        "# We can read the whole file (newlines and all) into a single string\n",
        "xfile = open('mbox.txt')\n",
        "inxfile = fhand.read()"
      ],
      "execution_count": 0,
      "outputs": []
    },
    {
      "metadata": {
        "id": "7iOUsaOTDDVJ",
        "colab_type": "code",
        "colab": {}
      },
      "cell_type": "code",
      "source": [
        ""
      ],
      "execution_count": 0,
      "outputs": []
    }
  ]
}