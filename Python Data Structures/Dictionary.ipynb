{
  "nbformat": 4,
  "nbformat_minor": 0,
  "metadata": {
    "colab": {
      "name": "Dictionary.ipynb",
      "version": "0.3.2",
      "provenance": [],
      "collapsed_sections": []
    },
    "kernelspec": {
      "name": "python3",
      "display_name": "Python 3"
    }
  },
  "cells": [
    {
      "metadata": {
        "id": "0LAvYqC-MvIB",
        "colab_type": "code",
        "colab": {}
      },
      "cell_type": "code",
      "source": [
        "# List - A linear collection of values that stay in order\n",
        "# Dictionary - A \"bag\" of values, each with its own label. They don't always\n",
        "#              stay in order, the order shifts around. But they're super powerful\n",
        "#              because they are key-value pair, and you give each item a key,\n",
        "#              you give it a key on the way in, and you get a key on the way back out."
      ],
      "execution_count": 0,
      "outputs": []
    },
    {
      "metadata": {
        "id": "B7CqDC2FOAuX",
        "colab_type": "code",
        "colab": {
          "base_uri": "https://localhost:8080/",
          "height": 34
        },
        "outputId": "02f73e23-c5f7-438b-a33c-d67f1d48cc09"
      },
      "cell_type": "code",
      "source": [
        "purse = dict()\n",
        "purse['money'] = 12\n",
        "purse['candy'] = 3\n",
        "purse['tissues'] = 75\n",
        "print (purse)"
      ],
      "execution_count": 1,
      "outputs": [
        {
          "output_type": "stream",
          "text": [
            "{'money': 12, 'candy': 3, 'tissues': 75}\n"
          ],
          "name": "stdout"
        }
      ]
    },
    {
      "metadata": {
        "id": "m_f1oWr3OQou",
        "colab_type": "code",
        "colab": {
          "base_uri": "https://localhost:8080/",
          "height": 34
        },
        "outputId": "ef93c1fb-cf8b-42c3-a555-b10cf5a1342d"
      },
      "cell_type": "code",
      "source": [
        "print (purse['candy'])"
      ],
      "execution_count": 2,
      "outputs": [
        {
          "output_type": "stream",
          "text": [
            "3\n"
          ],
          "name": "stdout"
        }
      ]
    },
    {
      "metadata": {
        "id": "Nlp8HYzuOUlP",
        "colab_type": "code",
        "colab": {
          "base_uri": "https://localhost:8080/",
          "height": 34
        },
        "outputId": "4d9db248-9f13-47b1-b108-fdf6677ad724"
      },
      "cell_type": "code",
      "source": [
        "purse['candy'] = purse['candy'] + 2\n",
        "print (purse)"
      ],
      "execution_count": 4,
      "outputs": [
        {
          "output_type": "stream",
          "text": [
            "{'money': 12, 'candy': 7, 'tissues': 75}\n"
          ],
          "name": "stdout"
        }
      ]
    },
    {
      "metadata": {
        "id": "AmrE467eOZGa",
        "colab_type": "code",
        "colab": {}
      },
      "cell_type": "code",
      "source": [
        "# Just don't expect the order of dictionaries to be a predictable thing."
      ],
      "execution_count": 0,
      "outputs": []
    },
    {
      "metadata": {
        "id": "YctLxJCuPMrB",
        "colab_type": "code",
        "colab": {
          "base_uri": "https://localhost:8080/",
          "height": 34
        },
        "outputId": "62a9e404-f621-4ec8-dbdc-af706c313581"
      },
      "cell_type": "code",
      "source": [
        "# Many counters with a dictionary\n",
        "# One common use of dictionaries is counting how often we \"see\" something\n",
        "ccc = dict()\n",
        "ccc['csev'] = 1\n",
        "ccc['cwen'] = 1\n",
        "print (ccc)"
      ],
      "execution_count": 5,
      "outputs": [
        {
          "output_type": "stream",
          "text": [
            "{'csev': 1, 'cwen': 1}\n"
          ],
          "name": "stdout"
        }
      ]
    },
    {
      "metadata": {
        "id": "MmU8X-jlRQCC",
        "colab_type": "code",
        "colab": {
          "base_uri": "https://localhost:8080/",
          "height": 202
        },
        "outputId": "ab566af7-bd7f-4de5-809d-21467fd0b14d"
      },
      "cell_type": "code",
      "source": [
        "# It is an error to reference a key which is not in the dictionary.\n",
        "# We can use the in operator to see if a key is in the dicgtionary.\n",
        "ccc = dict()\n",
        "print (ccc['csev'])"
      ],
      "execution_count": 6,
      "outputs": [
        {
          "output_type": "error",
          "ename": "KeyError",
          "evalue": "ignored",
          "traceback": [
            "\u001b[0;31m---------------------------------------------------------------------------\u001b[0m",
            "\u001b[0;31mKeyError\u001b[0m                                  Traceback (most recent call last)",
            "\u001b[0;32m<ipython-input-6-4184fb97acec>\u001b[0m in \u001b[0;36m<module>\u001b[0;34m()\u001b[0m\n\u001b[1;32m      1\u001b[0m \u001b[0mccc\u001b[0m \u001b[0;34m=\u001b[0m \u001b[0mdict\u001b[0m\u001b[0;34m(\u001b[0m\u001b[0;34m)\u001b[0m\u001b[0;34m\u001b[0m\u001b[0m\n\u001b[0;32m----> 2\u001b[0;31m \u001b[0mprint\u001b[0m \u001b[0;34m(\u001b[0m\u001b[0mccc\u001b[0m\u001b[0;34m[\u001b[0m\u001b[0;34m'csev'\u001b[0m\u001b[0;34m]\u001b[0m\u001b[0;34m)\u001b[0m\u001b[0;34m\u001b[0m\u001b[0m\n\u001b[0m",
            "\u001b[0;31mKeyError\u001b[0m: 'csev'"
          ]
        }
      ]
    },
    {
      "metadata": {
        "id": "eYdlAah6SEHP",
        "colab_type": "code",
        "colab": {}
      },
      "cell_type": "code",
      "source": [
        "counts = dict()\n",
        "names = ['csev', 'cwen','csev','zqian','cwen']\n",
        "for name in names:\n",
        "  if name not in counts:\n",
        "    counts[name] = 1\n",
        "  else:\n",
        "    counts[name] = count[name] + 1\n",
        "print(counts)"
      ],
      "execution_count": 0,
      "outputs": []
    },
    {
      "metadata": {
        "id": "ASNbMgH2SJhu",
        "colab_type": "code",
        "colab": {}
      },
      "cell_type": "code",
      "source": [
        "# The 'get' method for dictionaries\n",
        "# The pattern of checking to see if a key is already in a dictionary and assuming\n",
        "# a default value if the key is not there is so common that there is a method called\n",
        "# get()that does this for us.\n",
        "if name in names:\n",
        "  x = counts[name]\n",
        "else:\n",
        "  x = 0\n",
        "\n",
        "x = counts.get(name, 0)\n",
        "# x = counts.get(key, default value)\n",
        "# If key is in the dictionary, returen the default value."
      ],
      "execution_count": 0,
      "outputs": []
    },
    {
      "metadata": {
        "id": "y3_dJbDESzrE",
        "colab_type": "code",
        "colab": {}
      },
      "cell_type": "code",
      "source": [
        "counts = dict()\n",
        "names = ['csev', 'cwen','csev','zqian','cwen']\n",
        "for name in names:\n",
        "    counts[name] = count.get(name,0) + 1\n",
        "print(counts)"
      ],
      "execution_count": 0,
      "outputs": []
    },
    {
      "metadata": {
        "id": "Ym15FabBTNDb",
        "colab_type": "code",
        "colab": {
          "base_uri": "https://localhost:8080/",
          "height": 124
        },
        "outputId": "d97ee402-a401-46d8-dfd7-88d2af3894e9"
      },
      "cell_type": "code",
      "source": [
        "# Counting Pattern\n",
        "counts = dict()\n",
        "print ('Enter a line of text: ')\n",
        "line = input('')\n",
        "\n",
        "words = line.split()\n",
        "\n",
        "print ('Words:', words)\n",
        "\n",
        "print('Counting...')\n",
        "for word in words:\n",
        "  counts[word] = counts.get(word, 0) + 1\n",
        "print('Counts:', counts)"
      ],
      "execution_count": 8,
      "outputs": [
        {
          "output_type": "stream",
          "text": [
            "Enter a line of text: \n",
            "The general pattern to count the words in a line of text is to split the line into words, then loop through the words and use a dictionary to track the count of each word independently\n",
            "Words: ['The', 'general', 'pattern', 'to', 'count', 'the', 'words', 'in', 'a', 'line', 'of', 'text', 'is', 'to', 'split', 'the', 'line', 'into', 'words,', 'then', 'loop', 'through', 'the', 'words', 'and', 'use', 'a', 'dictionary', 'to', 'track', 'the', 'count', 'of', 'each', 'word', 'independently']\n",
            "Counting...\n",
            "Counts {'The': 1, 'general': 1, 'pattern': 1, 'to': 3, 'count': 2, 'the': 4, 'words': 2, 'in': 1, 'a': 2, 'line': 2, 'of': 2, 'text': 1, 'is': 1, 'split': 1, 'into': 1, 'words,': 1, 'then': 1, 'loop': 1, 'through': 1, 'and': 1, 'use': 1, 'dictionary': 1, 'track': 1, 'each': 1, 'word': 1, 'independently': 1}\n"
          ],
          "name": "stdout"
        }
      ]
    },
    {
      "metadata": {
        "id": "2s-_jBQwUjxC",
        "colab_type": "code",
        "colab": {
          "base_uri": "https://localhost:8080/",
          "height": 69
        },
        "outputId": "fb9b6f9d-6c6f-4e07-a4c2-d8e991e84444"
      },
      "cell_type": "code",
      "source": [
        "# Definite loops and dictionaries\n",
        "counts = {'chuck': 1, 'fred': 42, 'jan': 100}\n",
        "for count in counts:\n",
        "  print(count, counts[count])"
      ],
      "execution_count": 9,
      "outputs": [
        {
          "output_type": "stream",
          "text": [
            "chuck 1\n",
            "fred 42\n",
            "jan 100\n"
          ],
          "name": "stdout"
        }
      ]
    },
    {
      "metadata": {
        "id": "WNlgRp2SVdzL",
        "colab_type": "code",
        "colab": {
          "base_uri": "https://localhost:8080/",
          "height": 34
        },
        "outputId": "909d5bf4-1556-4df3-d667-e4ced6c3f0fe"
      },
      "cell_type": "code",
      "source": [
        "print(list(counts))"
      ],
      "execution_count": 10,
      "outputs": [
        {
          "output_type": "stream",
          "text": [
            "['chuck', 'fred', 'jan']\n"
          ],
          "name": "stdout"
        }
      ]
    },
    {
      "metadata": {
        "id": "TqvnS_4yVmFH",
        "colab_type": "code",
        "colab": {
          "base_uri": "https://localhost:8080/",
          "height": 34
        },
        "outputId": "5b6bfa28-a720-41e3-c95b-bb7241ecd18b"
      },
      "cell_type": "code",
      "source": [
        "print(counts.keys())"
      ],
      "execution_count": 11,
      "outputs": [
        {
          "output_type": "stream",
          "text": [
            "dict_keys(['chuck', 'fred', 'jan'])\n"
          ],
          "name": "stdout"
        }
      ]
    },
    {
      "metadata": {
        "id": "8YhiRsoEVq7t",
        "colab_type": "code",
        "colab": {
          "base_uri": "https://localhost:8080/",
          "height": 34
        },
        "outputId": "7f968806-2b70-4d40-99af-ef2df8a44e96"
      },
      "cell_type": "code",
      "source": [
        "print(counts.values())"
      ],
      "execution_count": 12,
      "outputs": [
        {
          "output_type": "stream",
          "text": [
            "dict_values([1, 42, 100])\n"
          ],
          "name": "stdout"
        }
      ]
    },
    {
      "metadata": {
        "id": "zmk0DELsVtbK",
        "colab_type": "code",
        "colab": {
          "base_uri": "https://localhost:8080/",
          "height": 34
        },
        "outputId": "bfbf11ed-14ea-45a3-93c8-a2a0ddeb9446"
      },
      "cell_type": "code",
      "source": [
        "# You can get a list of keys, values, or items (both) from a dictionary\n",
        "print(counts.items())"
      ],
      "execution_count": 14,
      "outputs": [
        {
          "output_type": "stream",
          "text": [
            "dict_items([('chuck', 1), ('fred', 42), ('jan', 100)])\n"
          ],
          "name": "stdout"
        }
      ]
    },
    {
      "metadata": {
        "id": "iLDw4pxgVykw",
        "colab_type": "code",
        "colab": {}
      },
      "cell_type": "code",
      "source": [
        "name = input('Enter file: ')\n",
        "handle = open(name)\n",
        "\n",
        "counts = dict()\n",
        "for line in handle:\n",
        "  words = line.split()\n",
        "  for word in words:\n",
        "    counts[word] = counts.get(word, 0) + 1\n",
        "\n",
        "bigcount = None\n",
        "bigword = None\n",
        "for word, count in counts.iterms():\n",
        "  if bigcount is None or count > bigcount:\n",
        "    bigword = word\n",
        "    bigcount = count\n",
        "    \n",
        "print(bigword, bigcount)"
      ],
      "execution_count": 0,
      "outputs": []
    },
    {
      "metadata": {
        "id": "eSYwRDzFd7p1",
        "colab_type": "code",
        "colab": {}
      },
      "cell_type": "code",
      "source": [
        "# Write a program to read through the mbox-short.txt and figure out who has \n",
        "# the sent the greatest number of mail messages. The program looks for 'From ' \n",
        "# lines and takes the second word of those lines as the person who sent the mail. \n",
        "# The program creates a Python dictionary that maps the sender's mail address to \n",
        "# a count of the number of times they appear in the file. After the dictionary is \n",
        "# produced, the program reads through the dictionary using a maximum loop to find \n",
        "# the most prolific committer.\n",
        "name = input(\"Enter file:\")\n",
        "if len(name) < 1 : name = \"mbox-short.txt\"\n",
        "handle = open(name)\n",
        "\n",
        "counts = dict()\n",
        "\n",
        "for line in handle:\n",
        "    words = line.split()\n",
        "    if line.startswith('From '):\n",
        "        counts[words[1]] = counts.get(words[1], 0) + 1\n",
        "\t\n",
        "sender = None\n",
        "great_num = None\n",
        "for word, count in counts.items():\n",
        "    if word is None or count > great_num:\n",
        "        sender = word\n",
        "        great_num = count\n",
        "print (sender, great_num)    "
      ],
      "execution_count": 0,
      "outputs": []
    }
  ]
}